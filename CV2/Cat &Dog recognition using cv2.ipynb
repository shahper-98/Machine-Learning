{
 "cells": [
  {
   "cell_type": "code",
   "execution_count": 1,
   "id": "0528f700",
   "metadata": {},
   "outputs": [],
   "source": [
    "import pandas as pd\n",
    "import cv2\n",
    "import os\n",
    "#importing necessary libraries"
   ]
  },
  {
   "cell_type": "code",
   "execution_count": 2,
   "id": "feb56ed6",
   "metadata": {},
   "outputs": [
    {
     "data": {
      "text/plain": [
       "'C:\\\\Users\\\\Khans\\\\Machine Learning\\\\ML - Project'"
      ]
     },
     "execution_count": 2,
     "metadata": {},
     "output_type": "execute_result"
    }
   ],
   "source": [
    "os.getcwd()\n",
    "#checking current directory"
   ]
  },
  {
   "cell_type": "code",
   "execution_count": 3,
   "id": "11192bf7",
   "metadata": {},
   "outputs": [],
   "source": [
    "os.chdir(r'D:\\train')\n",
    "#changing current working directory"
   ]
  },
  {
   "cell_type": "code",
   "execution_count": 4,
   "id": "25724516",
   "metadata": {},
   "outputs": [
    {
     "data": {
      "text/plain": [
       "'D:\\\\train'"
      ]
     },
     "execution_count": 4,
     "metadata": {},
     "output_type": "execute_result"
    }
   ],
   "source": [
    "os.getcwd()"
   ]
  },
  {
   "cell_type": "code",
   "execution_count": 5,
   "id": "d32c01c2",
   "metadata": {},
   "outputs": [],
   "source": [
    "a=os.listdir()\n",
    "#getting all the files in current working directory and assigning a variable to them now all files are assign to a variable a"
   ]
  },
  {
   "cell_type": "code",
   "execution_count": null,
   "id": "bf31167b",
   "metadata": {},
   "outputs": [],
   "source": [
    "#making folders\n",
    "for i in ['cats','dogs']:\n",
    "    os.makedirs(r\"D:\\train\"+i)"
   ]
  },
  {
   "cell_type": "code",
   "execution_count": 7,
   "id": "08355b80",
   "metadata": {},
   "outputs": [],
   "source": [
    "cat=[]                       #creating an empty list onto which all the cat files will be appended\n",
    "dog=[]                       #creating an emty list to append all the dog files into it\n",
    "for i in a:                  #accesing all the files in a using for loop\n",
    "    if i.startswith(\"cat\"):  \n",
    "        cat.append(i)        #appending cat files into empty list 'cat'\n",
    "    else:\n",
    "        dog.append(i)       #appending dog files into empty list 'dog'\n",
    "        "
   ]
  },
  {
   "cell_type": "code",
   "execution_count": 8,
   "id": "43b32b2a",
   "metadata": {},
   "outputs": [],
   "source": [
    "l1=[]\n",
    "for y in cat:         #accesing all the cat files\n",
    "    img=cv2.imread(y)            #reading files using cv2.imread\n",
    "    l1.append(img.flatten())     #flatten all the cat files and appending them into empty list l1\n",
    "df=pd.DataFrame({'arrays':l1,'labels':'cat'})  #craeting data frame that contains arrays and labels as cat"
   ]
  },
  {
   "cell_type": "code",
   "execution_count": 9,
   "id": "cfe36733",
   "metadata": {},
   "outputs": [],
   "source": [
    "l2=[]             \n",
    "for x in dog:       #accessing all the dog files\n",
    "    imgg=cv2.imread(x)         #reading dog files using cv2.imread\n",
    "    l2.append(imgg.flatten())    #faltten dog images and appending to them into empty list\n",
    "df1=pd.DataFrame({'arrays':l2,'labels':'dog'})   #creating dataframe that contains arrays and dog as labels"
   ]
  },
  {
   "cell_type": "code",
   "execution_count": 11,
   "id": "b9fb3678",
   "metadata": {},
   "outputs": [],
   "source": [
    "df2=pd.concat([df,df1])       #concating cat and dog dataframe"
   ]
  },
  {
   "cell_type": "code",
   "execution_count": 12,
   "id": "526d9c34",
   "metadata": {},
   "outputs": [
    {
     "data": {
      "text/html": [
       "<div>\n",
       "<style scoped>\n",
       "    .dataframe tbody tr th:only-of-type {\n",
       "        vertical-align: middle;\n",
       "    }\n",
       "\n",
       "    .dataframe tbody tr th {\n",
       "        vertical-align: top;\n",
       "    }\n",
       "\n",
       "    .dataframe thead th {\n",
       "        text-align: right;\n",
       "    }\n",
       "</style>\n",
       "<table border=\"1\" class=\"dataframe\">\n",
       "  <thead>\n",
       "    <tr style=\"text-align: right;\">\n",
       "      <th></th>\n",
       "      <th>arrays</th>\n",
       "      <th>labels</th>\n",
       "    </tr>\n",
       "  </thead>\n",
       "  <tbody>\n",
       "    <tr>\n",
       "      <th>0</th>\n",
       "      <td>[87, 164, 203, 87, 164, 203, 88, 165, 204, 90,...</td>\n",
       "      <td>cat</td>\n",
       "    </tr>\n",
       "    <tr>\n",
       "      <th>1</th>\n",
       "      <td>[40, 44, 39, 40, 44, 39, 43, 44, 40, 44, 45, 4...</td>\n",
       "      <td>cat</td>\n",
       "    </tr>\n",
       "    <tr>\n",
       "      <th>2</th>\n",
       "      <td>[39, 30, 26, 37, 28, 24, 32, 23, 19, 26, 17, 1...</td>\n",
       "      <td>cat</td>\n",
       "    </tr>\n",
       "    <tr>\n",
       "      <th>3</th>\n",
       "      <td>[220, 225, 224, 219, 224, 223, 219, 224, 223, ...</td>\n",
       "      <td>cat</td>\n",
       "    </tr>\n",
       "    <tr>\n",
       "      <th>4</th>\n",
       "      <td>[75, 112, 140, 75, 112, 140, 79, 116, 144, 81,...</td>\n",
       "      <td>cat</td>\n",
       "    </tr>\n",
       "  </tbody>\n",
       "</table>\n",
       "</div>"
      ],
      "text/plain": [
       "                                              arrays labels\n",
       "0  [87, 164, 203, 87, 164, 203, 88, 165, 204, 90,...    cat\n",
       "1  [40, 44, 39, 40, 44, 39, 43, 44, 40, 44, 45, 4...    cat\n",
       "2  [39, 30, 26, 37, 28, 24, 32, 23, 19, 26, 17, 1...    cat\n",
       "3  [220, 225, 224, 219, 224, 223, 219, 224, 223, ...    cat\n",
       "4  [75, 112, 140, 75, 112, 140, 79, 116, 144, 81,...    cat"
      ]
     },
     "execution_count": 12,
     "metadata": {},
     "output_type": "execute_result"
    }
   ],
   "source": [
    "df2.head()        #accesing first 5 rows"
   ]
  },
  {
   "cell_type": "code",
   "execution_count": 13,
   "id": "b593ea9e",
   "metadata": {},
   "outputs": [
    {
     "data": {
      "text/html": [
       "<div>\n",
       "<style scoped>\n",
       "    .dataframe tbody tr th:only-of-type {\n",
       "        vertical-align: middle;\n",
       "    }\n",
       "\n",
       "    .dataframe tbody tr th {\n",
       "        vertical-align: top;\n",
       "    }\n",
       "\n",
       "    .dataframe thead th {\n",
       "        text-align: right;\n",
       "    }\n",
       "</style>\n",
       "<table border=\"1\" class=\"dataframe\">\n",
       "  <thead>\n",
       "    <tr style=\"text-align: right;\">\n",
       "      <th></th>\n",
       "      <th>arrays</th>\n",
       "      <th>labels</th>\n",
       "    </tr>\n",
       "  </thead>\n",
       "  <tbody>\n",
       "    <tr>\n",
       "      <th>12495</th>\n",
       "      <td>[106, 143, 147, 106, 143, 147, 107, 144, 148, ...</td>\n",
       "      <td>dog</td>\n",
       "    </tr>\n",
       "    <tr>\n",
       "      <th>12496</th>\n",
       "      <td>[85, 114, 145, 94, 123, 154, 39, 69, 98, 22, 5...</td>\n",
       "      <td>dog</td>\n",
       "    </tr>\n",
       "    <tr>\n",
       "      <th>12497</th>\n",
       "      <td>[38, 41, 46, 48, 51, 56, 55, 58, 63, 53, 56, 6...</td>\n",
       "      <td>dog</td>\n",
       "    </tr>\n",
       "    <tr>\n",
       "      <th>12498</th>\n",
       "      <td>[251, 254, 252, 251, 254, 252, 253, 254, 252, ...</td>\n",
       "      <td>dog</td>\n",
       "    </tr>\n",
       "    <tr>\n",
       "      <th>12499</th>\n",
       "      <td>[228, 238, 245, 230, 240, 247, 232, 242, 249, ...</td>\n",
       "      <td>dog</td>\n",
       "    </tr>\n",
       "  </tbody>\n",
       "</table>\n",
       "</div>"
      ],
      "text/plain": [
       "                                                  arrays labels\n",
       "12495  [106, 143, 147, 106, 143, 147, 107, 144, 148, ...    dog\n",
       "12496  [85, 114, 145, 94, 123, 154, 39, 69, 98, 22, 5...    dog\n",
       "12497  [38, 41, 46, 48, 51, 56, 55, 58, 63, 53, 56, 6...    dog\n",
       "12498  [251, 254, 252, 251, 254, 252, 253, 254, 252, ...    dog\n",
       "12499  [228, 238, 245, 230, 240, 247, 232, 242, 249, ...    dog"
      ]
     },
     "execution_count": 13,
     "metadata": {},
     "output_type": "execute_result"
    }
   ],
   "source": [
    "df2.tail()     #accessing last 5 rows"
   ]
  },
  {
   "cell_type": "markdown",
   "id": "d7861bec",
   "metadata": {},
   "source": [
    " **convert each images into grayscale and resize each image into shape of (100,100)**\n"
   ]
  },
  {
   "cell_type": "code",
   "execution_count": 16,
   "id": "1bca338f",
   "metadata": {},
   "outputs": [],
   "source": [
    "a=[]\n",
    "for x in dog:                                  #accesing dog files\n",
    "    imgg1=cv2.imread(x,0)                      \n",
    "    resized=cv2.resize(imgg1,(100,100))        #resizing them \n",
    "    a.append(resized.flatten())            #faltten them\n",
    "df3=pd.DataFrame({\"arrays\":a,\"labels\":'dog'}) #creating data frame out of these resized images"
   ]
  },
  {
   "cell_type": "code",
   "execution_count": 17,
   "id": "0a50436b",
   "metadata": {},
   "outputs": [],
   "source": [
    "b=[]\n",
    "for y in cat:             #accesing cat images\n",
    "    imgg2=cv2.imread(y,0)              \n",
    "    resized=cv2.resize(imgg2,(100,100)) #resizing them\n",
    "    b.append(resized.flatten())            #faltten them\n",
    "df4=pd.DataFrame({\"arrays\":b,\"labels\":'cat'})   #creating dataframe out of these resized images"
   ]
  },
  {
   "cell_type": "code",
   "execution_count": 18,
   "id": "a9a2485b",
   "metadata": {},
   "outputs": [],
   "source": [
    "df_resize=pd.concat([df3,df4])         #concating resized dataframe"
   ]
  },
  {
   "cell_type": "code",
   "execution_count": 19,
   "id": "b22b2d98",
   "metadata": {},
   "outputs": [
    {
     "data": {
      "text/html": [
       "<div>\n",
       "<style scoped>\n",
       "    .dataframe tbody tr th:only-of-type {\n",
       "        vertical-align: middle;\n",
       "    }\n",
       "\n",
       "    .dataframe tbody tr th {\n",
       "        vertical-align: top;\n",
       "    }\n",
       "\n",
       "    .dataframe thead th {\n",
       "        text-align: right;\n",
       "    }\n",
       "</style>\n",
       "<table border=\"1\" class=\"dataframe\">\n",
       "  <thead>\n",
       "    <tr style=\"text-align: right;\">\n",
       "      <th></th>\n",
       "      <th>arrays</th>\n",
       "      <th>labels</th>\n",
       "    </tr>\n",
       "  </thead>\n",
       "  <tbody>\n",
       "    <tr>\n",
       "      <th>0</th>\n",
       "      <td>[119, 109, 152, 160, 160, 165, 130, 134, 136, ...</td>\n",
       "      <td>dog</td>\n",
       "    </tr>\n",
       "    <tr>\n",
       "      <th>1</th>\n",
       "      <td>[146, 120, 124, 132, 101, 105, 53, 96, 112, 78...</td>\n",
       "      <td>dog</td>\n",
       "    </tr>\n",
       "    <tr>\n",
       "      <th>2</th>\n",
       "      <td>[118, 109, 93, 98, 101, 123, 125, 116, 120, 12...</td>\n",
       "      <td>dog</td>\n",
       "    </tr>\n",
       "    <tr>\n",
       "      <th>3</th>\n",
       "      <td>[185, 184, 186, 183, 183, 181, 182, 183, 184, ...</td>\n",
       "      <td>dog</td>\n",
       "    </tr>\n",
       "    <tr>\n",
       "      <th>4</th>\n",
       "      <td>[16, 7, 7, 7, 23, 52, 63, 45, 77, 40, 82, 59, ...</td>\n",
       "      <td>dog</td>\n",
       "    </tr>\n",
       "    <tr>\n",
       "      <th>...</th>\n",
       "      <td>...</td>\n",
       "      <td>...</td>\n",
       "    </tr>\n",
       "    <tr>\n",
       "      <th>12495</th>\n",
       "      <td>[24, 22, 21, 21, 21, 21, 19, 20, 20, 19, 19, 2...</td>\n",
       "      <td>cat</td>\n",
       "    </tr>\n",
       "    <tr>\n",
       "      <th>12496</th>\n",
       "      <td>[101, 96, 93, 92, 92, 92, 88, 98, 97, 99, 94, ...</td>\n",
       "      <td>cat</td>\n",
       "    </tr>\n",
       "    <tr>\n",
       "      <th>12497</th>\n",
       "      <td>[96, 98, 97, 97, 97, 107, 96, 94, 94, 100, 113...</td>\n",
       "      <td>cat</td>\n",
       "    </tr>\n",
       "    <tr>\n",
       "      <th>12498</th>\n",
       "      <td>[57, 53, 48, 107, 144, 152, 158, 158, 159, 161...</td>\n",
       "      <td>cat</td>\n",
       "    </tr>\n",
       "    <tr>\n",
       "      <th>12499</th>\n",
       "      <td>[112, 36, 33, 28, 30, 33, 37, 37, 28, 80, 117,...</td>\n",
       "      <td>cat</td>\n",
       "    </tr>\n",
       "  </tbody>\n",
       "</table>\n",
       "<p>25000 rows × 2 columns</p>\n",
       "</div>"
      ],
      "text/plain": [
       "                                                  arrays labels\n",
       "0      [119, 109, 152, 160, 160, 165, 130, 134, 136, ...    dog\n",
       "1      [146, 120, 124, 132, 101, 105, 53, 96, 112, 78...    dog\n",
       "2      [118, 109, 93, 98, 101, 123, 125, 116, 120, 12...    dog\n",
       "3      [185, 184, 186, 183, 183, 181, 182, 183, 184, ...    dog\n",
       "4      [16, 7, 7, 7, 23, 52, 63, 45, 77, 40, 82, 59, ...    dog\n",
       "...                                                  ...    ...\n",
       "12495  [24, 22, 21, 21, 21, 21, 19, 20, 20, 19, 19, 2...    cat\n",
       "12496  [101, 96, 93, 92, 92, 92, 88, 98, 97, 99, 94, ...    cat\n",
       "12497  [96, 98, 97, 97, 97, 107, 96, 94, 94, 100, 113...    cat\n",
       "12498  [57, 53, 48, 107, 144, 152, 158, 158, 159, 161...    cat\n",
       "12499  [112, 36, 33, 28, 30, 33, 37, 37, 28, 80, 117,...    cat\n",
       "\n",
       "[25000 rows x 2 columns]"
      ]
     },
     "execution_count": 19,
     "metadata": {},
     "output_type": "execute_result"
    }
   ],
   "source": [
    "df_resize"
   ]
  },
  {
   "cell_type": "code",
   "execution_count": null,
   "id": "3c1ca7b5",
   "metadata": {},
   "outputs": [],
   "source": []
  }
 ],
 "metadata": {
  "kernelspec": {
   "display_name": "Python 3 (ipykernel)",
   "language": "python",
   "name": "python3"
  },
  "language_info": {
   "codemirror_mode": {
    "name": "ipython",
    "version": 3
   },
   "file_extension": ".py",
   "mimetype": "text/x-python",
   "name": "python",
   "nbconvert_exporter": "python",
   "pygments_lexer": "ipython3",
   "version": "3.9.12"
  }
 },
 "nbformat": 4,
 "nbformat_minor": 5
}
